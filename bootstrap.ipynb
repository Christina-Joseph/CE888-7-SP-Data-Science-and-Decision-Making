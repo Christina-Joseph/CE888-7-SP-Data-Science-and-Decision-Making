{
  "nbformat": 4,
  "nbformat_minor": 0,
  "metadata": {
    "colab": {
      "name": " bootstrap.ipynb",
      "provenance": [],
      "include_colab_link": true
    },
    "kernelspec": {
      "display_name": "Python 3",
      "language": "python",
      "name": "python3"
    },
    "language_info": {
      "codemirror_mode": {
        "name": "ipython",
        "version": 3
      },
      "file_extension": ".py",
      "mimetype": "text/x-python",
      "name": "python",
      "nbconvert_exporter": "python",
      "pygments_lexer": "ipython3",
      "version": "3.7.6"
    },
    "pycharm": {
      "stem_cell": {
        "cell_type": "raw",
        "metadata": {
          "collapsed": false
        },
        "source": []
      }
    }
  },
  "cells": [
    {
      "cell_type": "markdown",
      "metadata": {
        "id": "view-in-github",
        "colab_type": "text"
      },
      "source": [
        "<a href=\"https://colab.research.google.com/github/Christina-Joseph/CE888-7-SP-Data-Science-and-Decision-Making/blob/main/bootstrap.ipynb\" target=\"_parent\"><img src=\"https://colab.research.google.com/assets/colab-badge.svg\" alt=\"Open In Colab\"/></a>"
      ]
    },
    {
      "cell_type": "markdown",
      "metadata": {
        "id": "nCi_99yMYIb1"
      },
      "source": [
        "In this notebook you'll create your own bootstrap function following the bootstrap algorithm (check the lecture notes!)"
      ]
    },
    {
      "cell_type": "code",
      "metadata": {
        "id": "LY5zujI2YC37",
        "pycharm": {
          "name": "#%%# Imports\n"
        }
      },
      "source": [
        "import matplotlib\n",
        "import pandas as pd\n",
        "import seaborn as sns\n",
        "import numpy as np\n",
        "\n"
      ],
      "execution_count": null,
      "outputs": []
    },
    {
      "cell_type": "code",
      "metadata": {
        "id": "Eqkwj4SMY38t"
      },
      "source": [
        "# Load the data\n",
        "df = pd.read_csv('https://raw.githubusercontent.com/albanda/CE888/master/lab2%20-%20bootstrap/customers.csv')\n",
        "data = df.values.T[1]"
      ],
      "execution_count": null,
      "outputs": []
    },
    {
      "cell_type": "code",
      "metadata": {
        "id": "Gxvc_bScYC4H",
        "pycharm": {
          "name": "#%%\n"
        }
      },
      "source": [
        "# Checking the notes from the lecture, create here your own bootstrap function:\n",
        "# 1. Sample from the input array x to create an array of samples of shape (n_bootstraps, sample_size)\n",
        "# Hint: Check the function random.choice() on Numpy\n",
        "# 2. Calculate and save the mean of the array (this is \"data_mean\" that is returned by the function)\n",
        "# 3. Calculate the mean from each bootstrap (i.e., row) and store it.\n",
        "# (This should be an array of n_bootstraps values)\n",
        "# 4. Calculate the lower and upper bounds for a 95% CI (hint: check the percentile function on Numpy)\n",
        "# 5. Return data_mean, and the lower and upper bounds of your interval\n",
        "def bootstrap_mean(x, sample_size, n_bootstraps):\n",
        "\t# <---INSERT YOUR CODE HERE--->\n",
        "\tmember = len(x)\n",
        "\tanswer_mean = []\n",
        "\tfor i in range(n_bootstraps):\n",
        "\t\tsample = np.random.choice(x, member)\n",
        "\t\tanswer_mean.append(np.mean(sample))\n",
        "\tanswer_mean = np.sort(answer_mean)\n",
        "\tdata_mean = np.mean(answer_mean)\n",
        "\tlower = np.percentile(answer_mean,5)\n",
        "\tupper = np.percentile(answer_mean,95)\n",
        "\treturn data_mean, lower, upper\n",
        "\t\n"
      ],
      "execution_count": null,
      "outputs": []
    },
    {
      "cell_type": "code",
      "metadata": {
        "id": "AN7sEOcMYC4P",
        "pycharm": {
          "name": "#%%\n"
        },
        "outputId": "6c9715c2-d105-4c7f-9d55-98dee1b85ea7",
        "colab": {
          "base_uri": "https://localhost:8080/",
          "height": 442
        }
      },
      "source": [
        "# Call your bootstrap function and plot the results\n",
        "\n",
        "boots = []\n",
        "for i in range(100, 50000, 1000):\n",
        "    boot = bootstrap_mean(data, data.shape[0], i)\n",
        "    boots.append([i, boot[0], \"mean\"])\n",
        "    boots.append([i, boot[1], \"lower\"])\n",
        "    boots.append([i, boot[2], \"upper\"])\n",
        "\n",
        "df_boot = pd.DataFrame(boots, columns=['Bootstrap Iterations', 'Mean', \"Value\"])\n",
        "sns_plot = sns.lmplot(df_boot.columns[0], df_boot.columns[1], data=df_boot, fit_reg=False, hue=\"Value\")\n",
        "\n",
        "sns_plot.axes[0, 0].set_ylim(0,)\n",
        "sns_plot.axes[0, 0].set_xlim(0, 50000)\n"
      ],
      "execution_count": null,
      "outputs": [
        {
          "output_type": "stream",
          "name": "stderr",
          "text": [
            "/usr/local/lib/python3.7/dist-packages/seaborn/_decorators.py:43: FutureWarning: Pass the following variables as keyword args: x, y. From version 0.12, the only valid positional argument will be `data`, and passing other arguments without an explicit keyword will result in an error or misinterpretation.\n",
            "  FutureWarning\n"
          ]
        },
        {
          "output_type": "execute_result",
          "data": {
            "text/plain": [
              "(0.0, 50000.0)"
            ]
          },
          "metadata": {},
          "execution_count": 99
        },
        {
          "output_type": "display_data",
          "data": {
            "text/plain": [
              "<Figure size 425.125x360 with 1 Axes>"
            ],
            "image/png": "[encoded data removed]"
          },
          "metadata": {
            "needs_background": "light"
          }
        }
      ]
    },
    {
      "cell_type": "markdown",
      "metadata": {
        "id": "MjtP4e2_YC4V"
      },
      "source": [
        "\n",
        "Now, modify the bootstrap function you created above so that you can pass your desired confidence interval as a parameter.\n",
        "\n"
      ]
    },
    {
      "cell_type": "code",
      "metadata": {
        "id": "3K9j0FuGYhHs"
      },
      "source": [
        "def bootstrap_mean_ci(sample, sample_size, n_bootstraps, ci):\n",
        "\t# <---INSERT YOUR CODE HERE--->\n",
        "\tmember = len(sample)\n",
        "\tanswer_mean = []\n",
        "\tfor i in range(n_bootstraps):\n",
        "\t\tre_sample = np.random.choice(sample, sample_size)\n",
        "\t\tanswer_mean.append(np.mean(re_sample))\n",
        "\tanswer_mean = np.sort(answer_mean)\n",
        "\tposition = ((100-ci)/2)\n",
        "\t# remove = round(remove)\n",
        "\t# if remove != 0:\n",
        "\t# \tanswer_mean = answer_mean[remove+1 : -remove]\n",
        "\tdata_mean = np.mean(answer_mean)\n",
        "\tlower = np.percentile(answer_mean, position)\n",
        "\tupper = np.percentile(answer_mean, 100-position)\n",
        "\treturn data_mean, lower, upper\n",
        "\n",
        "def bootstrap_standeviation_ci(sample, sample_size, n_bootstraps, ci):\n",
        "\t# <---INSERT YOUR CODE HERE--->\n",
        "\tmember = len(sample)\n",
        "\tanswer_std = []\n",
        "\tfor i in range(n_bootstraps):\n",
        "\t\tre_sample = np.random.choice(sample, sample_size)\n",
        "\t\tanswer_std.append(np.std(re_sample))\n",
        "\tanswer_std = np.sort(answer_std)\n",
        "\tposition = ((100-ci)/2)\n",
        "\tdata_std = np.std(answer_std)\n",
        "\tlower = np.percentile(answer_std, position)\n",
        "\tupper = np.percentile(answer_std, 100-position)\n",
        "\treturn data_std, lower, upper"
      ],
      "execution_count": null,
      "outputs": []
    },
    {
      "cell_type": "code",
      "source": [
        "data_std, lower, upper = bootstrap_standeviation_ci(data, data.shape[0], 10000, 90)\n",
        "print('lower =',lower)\n",
        "print('upper =',upper)"
      ],
      "metadata": {
        "id": "_78R5M76cuJl",
        "outputId": "163fed1a-ad22-4137-87fb-c00268b3c145",
        "colab": {
          "base_uri": "https://localhost:8080/"
        }
      },
      "execution_count": null,
      "outputs": [
        {
          "output_type": "stream",
          "name": "stdout",
          "text": [
            "lower = 3.0380243311623913\n",
            "upper = 7.098846553756523\n"
          ]
        }
      ]
    },
    {
      "cell_type": "code",
      "metadata": {
        "id": "uDnjq08GYl-C",
        "outputId": "6b4f5ffd-f53c-4d63-ac4e-d768b316a271",
        "colab": {
          "base_uri": "https://localhost:8080/",
          "height": 441
        }
      },
      "source": [
        "boots = []\n",
        "for i in range(100, 50000, 1000):\n",
        "    boot = bootstrap_mean_ci(data, data.shape[0], i, 80)\n",
        "    boots.append([i, boot[0], \"mean\"])\n",
        "    boots.append([i, boot[1], \"lower\"])\n",
        "    boots.append([i, boot[2], \"upper\"])\n",
        "\n",
        "df_boot = pd.DataFrame(boots, columns=['Boostrap Iterations', 'Mean', \"Value\"])\n",
        "sns_plot = sns.lmplot(df_boot.columns[0], df_boot.columns[1], data=df_boot, fit_reg=False, hue=\"Value\")\n",
        "\n",
        "sns_plot.axes[0, 0].set_ylim(0,)\n",
        "sns_plot.axes[0, 0].set_xlim(0, 50000)\n",
        "\n",
        "#sns_plot.savefig(\"bootstrap_confidence_80.pdf\", bbox_inches='tight')\n"
      ],
      "execution_count": null,
      "outputs": [
        {
          "output_type": "stream",
          "name": "stderr",
          "text": [
            "/usr/local/lib/python3.7/dist-packages/seaborn/_decorators.py:43: FutureWarning: Pass the following variables as keyword args: x, y. From version 0.12, the only valid positional argument will be `data`, and passing other arguments without an explicit keyword will result in an error or misinterpretation.\n",
            "  FutureWarning\n"
          ]
        },
        {
          "output_type": "execute_result",
          "data": {
            "text/plain": [
              "(0.0, 50000.0)"
            ]
          },
          "metadata": {},
          "execution_count": 102
        },
        {
          "output_type": "display_data",
          "data": {
            "text/plain": [
              "<Figure size 425.125x360 with 1 Axes>"
            ],
            "image/png": "[encoded data removed]"
          },
          "metadata": {
            "needs_background": "light"
          }
        }
      ]
    },
    {
      "cell_type": "markdown",
      "metadata": {
        "id": "qjNgXW6wdd7r"
      },
      "source": [
        "# Vehicles dataset\n",
        "\n",
        "Now let's work on a different dataset, which is stored in the vehicles.csv file.\n"
      ]
    },
    {
      "cell_type": "code",
      "metadata": {
        "id": "avWv4ipFdpka"
      },
      "source": [
        "# Load and visualise the vehicles dataset\n",
        "# To load the dataset: https://neptune.ai/blog/google-colab-dealing-with-files (check section \"Load individual files directly from GitHub\")\n",
        "\n",
        "\n",
        "# Note that the current and new fleets are in different columns and have different lengths, so bear this in mind when you're plotting.\n",
        "# You can create separate scatterplots for the two fleets, as you would with the histograms, \n",
        "# or plot them both in one plot (but not one against the other).\n",
        "# <---INSERT YOUR CODE HERE--->\n",
        "# Note: you can add more cells as needed to organise your code and your plots\n",
        "\n",
        "df = pd.read_csv('https://raw.githubusercontent.com/albanda/CE888/master/lab2%20-%20bootstrap/vehicles.csv')\n",
        "data_current = df[df.columns[0]].values\n",
        "data_new = df[df.columns[1]].values\n",
        "data_new = data_new[np.logical_not(np.isnan(data_new))]\n",
        "# Note: you can add more cells as needed to organise your code and your plots"
      ],
      "execution_count": null,
      "outputs": []
    },
    {
      "cell_type": "code",
      "source": [
        "# Load the data\n",
        "sns_plot = sns.jointplot(df.columns[0], df.columns[0], data=df, height=5, ratio=2, marginal_ticks=True)"
      ],
      "metadata": {
        "id": "tcTa0ksdFxRz",
        "outputId": "1977c447-bf04-4e29-e81f-a791b67c9f60",
        "colab": {
          "base_uri": "https://localhost:8080/",
          "height": 420
        }
      },
      "execution_count": null,
      "outputs": [
        {
          "output_type": "stream",
          "name": "stderr",
          "text": [
            "/usr/local/lib/python3.7/dist-packages/seaborn/_decorators.py:43: FutureWarning: Pass the following variables as keyword args: x, y. From version 0.12, the only valid positional argument will be `data`, and passing other arguments without an explicit keyword will result in an error or misinterpretation.\n",
            "  FutureWarning\n"
          ]
        },
        {
          "output_type": "display_data",
          "data": {
            "text/plain": [
              "<Figure size 360x360 with 3 Axes>"
            ],
            "image/png": "[encoded data removed]"
          },
          "metadata": {
            "needs_background": "light"
          }
        }
      ]
    },
    {
      "cell_type": "code",
      "source": [
        "#Load the data\n",
        "sns_plot = sns.jointplot(df.columns[1], df.columns[1], data=df, height=5, ratio=2, marginal_ticks=True)"
      ],
      "metadata": {
        "id": "aYYCz9M5FyMP",
        "outputId": "94b16771-ddd6-4e6a-9e93-189708827a24",
        "colab": {
          "base_uri": "https://localhost:8080/",
          "height": 420
        }
      },
      "execution_count": null,
      "outputs": [
        {
          "output_type": "stream",
          "name": "stderr",
          "text": [
            "/usr/local/lib/python3.7/dist-packages/seaborn/_decorators.py:43: FutureWarning: Pass the following variables as keyword args: x, y. From version 0.12, the only valid positional argument will be `data`, and passing other arguments without an explicit keyword will result in an error or misinterpretation.\n",
            "  FutureWarning\n"
          ]
        },
        {
          "output_type": "display_data",
          "data": {
            "text/plain": [
              "<Figure size 360x360 with 3 Axes>"
            ],
            "image/png": "[encoded data removed]"
          },
          "metadata": {
            "needs_background": "light"
          }
        }
      ]
    },
    {
      "cell_type": "markdown",
      "metadata": {
        "id": "B5d0tXDpIEj8"
      },
      "source": [
        "## Compare the two fleets\n",
        "\n",
        "The business analysts come up a comparison algorithm that requires the upper and lower bounds for the mean in order to say which fleet is better.\n",
        "1. Calculate the mean of both samples.\n",
        "2. Using the bootstrap function that you created:\n",
        "    - Construct the 95% CI of the mean of the current fleet.\n",
        "    - Construct the 95% CI of the mean of the new fleet.\n",
        "    - Are they comparable? (i.e., is one better than the other?) -- you can do this with a permutation test (check the lecture notes!)"
      ]
    },
    {
      "cell_type": "code",
      "metadata": {
        "id": "po4mp6zRHC0m",
        "outputId": "9453366b-5546-4862-a6bd-dee442b60194",
        "colab": {
          "base_uri": "https://localhost:8080/"
        }
      },
      "source": [
        "# <---INSERT YOUR CODE HERE--->\n",
        "# Load the data\n",
        "df = pd.read_csv('https://raw.githubusercontent.com/albanda/CE888/master/lab2%20-%20bootstrap/vehicles.csv')\n",
        "data_current = df[df.columns[0]].values\n",
        "data_new = df[df.columns[1]].values\n",
        "data_new = data_new[np.logical_not(np.isnan(data_new))]\n",
        "print('Mean of current fleet =',np.mean(data_current))\n",
        "print('Mean of new fleet =',np.mean(data_new))"
      ],
      "execution_count": null,
      "outputs": [
        {
          "output_type": "stream",
          "name": "stdout",
          "text": [
            "Mean of current fleet = 20.14457831325301\n",
            "Mean of new fleet = 30.481012658227847\n"
          ]
        }
      ]
    },
    {
      "cell_type": "code",
      "source": [
        "current, lower, upper = bootstrap_mean_ci(data_current,len(data_current),10000,80)\n",
        "print('Mean of current fleet with 92% between',lower,'and',upper)"
      ],
      "metadata": {
        "id": "-swPKm3HGERT",
        "outputId": "7ce5a7ee-dd5a-4ae9-eb51-be111a0e95d6",
        "colab": {
          "base_uri": "https://localhost:8080/"
        }
      },
      "execution_count": null,
      "outputs": [
        {
          "output_type": "stream",
          "name": "stdout",
          "text": [
            "Mean of current fleet with 92% between 19.6144578313253 and 20.667068273092372\n"
          ]
        }
      ]
    },
    {
      "cell_type": "code",
      "source": [
        "current, lower, upper = bootstrap_mean_ci(data_new,len(data_new),10000,80)\n",
        "print('Mean of new fleet with 95% between',lower,'and',upper)"
      ],
      "metadata": {
        "id": "XyqCk2sXGFRC",
        "outputId": "5cd2d1e8-177f-41c0-e005-b00edf7d7a3a",
        "colab": {
          "base_uri": "https://localhost:8080/"
        }
      },
      "execution_count": null,
      "outputs": [
        {
          "output_type": "stream",
          "name": "stdout",
          "text": [
            "Mean of new fleet with 95% between 29.60759493670886 and 31.354430379746834\n"
          ]
        }
      ]
    },
    {
      "cell_type": "code",
      "source": [
        "data_std, lower, upper = bootstrap_standeviation_ci(data_current, data.shape[0], 10000, 95)\n",
        "print('lower =',lower)\n",
        "print('upper =',upper)"
      ],
      "metadata": {
        "id": "TWc3cMwMbYf4",
        "outputId": "d73d07c2-3fd5-4eb9-c30e-c4ca87c7fa6d",
        "colab": {
          "base_uri": "https://localhost:8080/"
        }
      },
      "execution_count": null,
      "outputs": [
        {
          "output_type": "stream",
          "name": "stdout",
          "text": [
            "lower = 3.6568359246200584\n",
            "upper = 8.4238863513114\n"
          ]
        }
      ]
    },
    {
      "cell_type": "code",
      "source": [
        "data_std, lower, upper = bootstrap_standeviation_ci(data, data.shape[0], 10000, 99)\n",
        "print('lower =',lower)\n",
        "print('upper =',upper)"
      ],
      "metadata": {
        "id": "etWI6BMbbYq4",
        "outputId": "3c5a91d2-731c-4fcb-8a91-c2ab37271bba",
        "colab": {
          "base_uri": "https://localhost:8080/"
        }
      },
      "execution_count": null,
      "outputs": [
        {
          "output_type": "stream",
          "name": "stdout",
          "text": [
            "lower = 2.2416907626690628\n",
            "upper = 7.848371727658559\n"
          ]
        }
      ]
    },
    {
      "cell_type": "code",
      "metadata": {
        "id": "MkxvDZG4HC0n"
      },
      "source": [
        "# Create your own function for a permutation test here (you will need it for the lab quiz!):\n",
        "def p_value(data_old, data_new,round_permutation):\n",
        "    \"\"\"\n",
        "    sample1: 1D array\n",
        "    sample2: 1D array (note that the size of the two arrays can be different)\n",
        "    n_permutations: number of permutations to calculate the p-value\n",
        "    \"\"\"\n",
        "    old_mean = np.mean(data_old)\n",
        "    new_mean = np.mean(data_new)\n",
        "    Ob_mean = new_mean-old_mean\n",
        "    all_data = np.concatenate((data_old,data_new))\n",
        "    count = 0\n",
        "    for i in range(round_permutation):\n",
        "        permu = np.random.permutation(all_data)\n",
        "        p_old = permu[:len(data_old)]\n",
        "        p_new = permu[len(data_new):]\n",
        "        mean_p_old = np.mean(p_old)\n",
        "        mean_p_new = np.mean(p_new)\n",
        "        mean_permu = mean_p_new - mean_p_old\n",
        "        if mean_permu > Ob_mean:\n",
        "          count += 1\n",
        "        return (count/round_permutation)\n",
        "        return pvalue"
      ],
      "execution_count": null,
      "outputs": []
    },
    {
      "cell_type": "code",
      "source": [
        "p_values = p_value(data_current,data_new,30000)\n",
        "print(p_values)"
      ],
      "metadata": {
        "id": "1xq6Zhhif1cA",
        "outputId": "cc64d92d-7091-4299-a26a-a919522e6c62",
        "colab": {
          "base_uri": "https://localhost:8080/"
        }
      },
      "execution_count": null,
      "outputs": [
        {
          "output_type": "stream",
          "name": "stdout",
          "text": [
            "0.0\n"
          ]
        }
      ]
    },
    {
      "cell_type": "code",
      "source": [
        "#voting data\n",
        "dem_share_PA = [60.08, 40.64, 36.07, 41.21, 31.04, 43.78, 44.08, 46.85, 44.71, 46.15, 63.10, 52.20, 43.18, 40.24, 39.92, 47.87, 37.77, 40.11, 49.85, 48.61, 38.62, 54.25, 34.84, 47.75, 43.82, 55.97, 58.23, 42.97, 42.38, 36.11, 37.53, 42.65, 50.96, 47.43, 56.24, 45.60, 46.39, 35.22, 48.56, 32.97, 57.88, 36.05, 37.72, 50.36, 32.12, 41.55, 54.66, 57.81, 54.58, 32.88, 54.37, 40.45, 47.61, 60.49, 43.11, 27.32, 44.03, 33.56, 37.26, 54.64, 43.12, 25.34, 49.79, 83.56, 40.09, 60.81, 49.81]\n",
        "dem_share_OH = [56.94, 50.46, 65.99, 45.88, 42.23, 45.26, 57.01, 53.61, 59.10, 61.48, 43.43, 44.69, 54.59, 48.36, 45.89, 48.62, 43.92, 38.23, 28.79, 63.57, 38.07, 40.18, 43.05, 41.56, 42.49, 36.06, 52.76, 46.07, 39.43, 39.26, 47.47, 27.92, 38.01, 45.45, 29.07, 28.94, 51.28, 50.10, 39.84, 36.43, 35.71, 31.47, 47.01, 40.10, 48.76, 31.56, 39.86, 45.31, 35.47, 51.38, 46.33, 48.73, 41.77, 41.32, 48.46, 53.14, 34.01, 54.74, 40.67, 38.96, 46.29, 38.25, 6.80, 31.75, 46.33, 44.90, 33.57, 38.10, 39.67, 40.47, 49.44, 37.62, 36.71, 46.73, 42.20, 53.16, 52.40, 58.36, 68.02, 38.53, 34.58, 69.64, 60.50, 53.53, 36.54, 49.58, 41.97, 38.11]\n"
      ],
      "metadata": {
        "id": "H4j7lin7h25G"
      },
      "execution_count": null,
      "outputs": []
    },
    {
      "cell_type": "code",
      "source": [
        "print('vote PA',len(dem_share_PA))\n",
        "print('vote OH',len(dem_share_OH))"
      ],
      "metadata": {
        "id": "Or1JzTuKieuL",
        "outputId": "6048f4e6-8e7c-466e-f039-e3d33a1ca2a7",
        "colab": {
          "base_uri": "https://localhost:8080/"
        }
      },
      "execution_count": null,
      "outputs": [
        {
          "output_type": "stream",
          "name": "stdout",
          "text": [
            "vote PA 67\n",
            "vote OH 88\n"
          ]
        }
      ]
    },
    {
      "cell_type": "code",
      "source": [
        "current, lower, upper = bootstrap_mean_ci(dem_share_PA,len(dem_share_PA),25000,90)\n",
        "print('Mean of voting PA with 98% between',lower,'and',upper)"
      ],
      "metadata": {
        "id": "DVc2LTjXie5Q",
        "outputId": "9cd41036-df13-4683-e1f2-87a37a7e524f",
        "colab": {
          "base_uri": "https://localhost:8080/"
        }
      },
      "execution_count": null,
      "outputs": [
        {
          "output_type": "stream",
          "name": "stdout",
          "text": [
            "Mean of voting PA with 98% between 43.56416417910448 and 47.498238805970146\n"
          ]
        }
      ]
    },
    {
      "cell_type": "code",
      "source": [
        "current, lower, upper = bootstrap_mean_ci(dem_share_OH,len(dem_share_OH),25000,90)\n",
        "print('Mean of voting OH with 98% between',lower,'and',upper)"
      ],
      "metadata": {
        "id": "uam7Iy9Qin70",
        "outputId": "562656d6-4874-4387-fdac-0b5ae22ab677",
        "colab": {
          "base_uri": "https://localhost:8080/"
        }
      },
      "execution_count": null,
      "outputs": [
        {
          "output_type": "stream",
          "name": "stdout",
          "text": [
            "Mean of voting OH with 98% between 42.58361931818181 and 46.05342045454545\n"
          ]
        }
      ]
    },
    {
      "cell_type": "code",
      "source": [
        "p_values = p_value(dem_share_OH,dem_share_PA,20000)\n",
        "print('P_value =', p_values)"
      ],
      "metadata": {
        "id": "aQ2-jc_HitZe",
        "outputId": "bfcbf70c-79a8-47b8-c877-f81ca3566b42",
        "colab": {
          "base_uri": "https://localhost:8080/"
        }
      },
      "execution_count": null,
      "outputs": [
        {
          "output_type": "stream",
          "name": "stdout",
          "text": [
            "P_value = 0.0\n"
          ]
        }
      ]
    }
  ]
}